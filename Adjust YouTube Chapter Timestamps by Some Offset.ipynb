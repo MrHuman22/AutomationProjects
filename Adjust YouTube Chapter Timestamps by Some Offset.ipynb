{
 "cells": [
  {
   "cell_type": "code",
   "execution_count": 1,
   "metadata": {},
   "outputs": [],
   "source": [
    "import pandas as pd\n",
    "from datetime import datetime, timedelta"
   ]
  },
  {
   "cell_type": "code",
   "execution_count": 2,
   "metadata": {},
   "outputs": [],
   "source": [
    "timestamps = pd.read_clipboard()"
   ]
  },
  {
   "cell_type": "code",
   "execution_count": 3,
   "metadata": {},
   "outputs": [
    {
     "data": {
      "text/html": [
       "<div>\n",
       "<style scoped>\n",
       "    .dataframe tbody tr th:only-of-type {\n",
       "        vertical-align: middle;\n",
       "    }\n",
       "\n",
       "    .dataframe tbody tr th {\n",
       "        vertical-align: top;\n",
       "    }\n",
       "\n",
       "    .dataframe thead th {\n",
       "        text-align: right;\n",
       "    }\n",
       "</style>\n",
       "<table border=\"1\" class=\"dataframe\">\n",
       "  <thead>\n",
       "    <tr style=\"text-align: right;\">\n",
       "      <th></th>\n",
       "      <th>Project</th>\n",
       "      <th>Timestamp</th>\n",
       "    </tr>\n",
       "  </thead>\n",
       "  <tbody>\n",
       "    <tr>\n",
       "      <th>0</th>\n",
       "      <td>Project 1</td>\n",
       "      <td>00:00 Speedrun</td>\n",
       "    </tr>\n",
       "    <tr>\n",
       "      <th>1</th>\n",
       "      <td>Project 1</td>\n",
       "      <td>00:17 Flagging the UI Map and Video</td>\n",
       "    </tr>\n",
       "    <tr>\n",
       "      <th>2</th>\n",
       "      <td>Project 1</td>\n",
       "      <td>00:26 Intro to the Savegrabber</td>\n",
       "    </tr>\n",
       "    <tr>\n",
       "      <th>3</th>\n",
       "      <td>Project 1</td>\n",
       "      <td>00:56 Pan, Orbit and the Perspective Cube</td>\n",
       "    </tr>\n",
       "    <tr>\n",
       "      <th>4</th>\n",
       "      <td>Project 1</td>\n",
       "      <td>01:29 Import canvas</td>\n",
       "    </tr>\n",
       "  </tbody>\n",
       "</table>\n",
       "</div>"
      ],
      "text/plain": [
       "     Project                                   Timestamp\n",
       "0  Project 1                             00:00 Speedrun \n",
       "1  Project 1        00:17 Flagging the UI Map and Video \n",
       "2  Project 1             00:26 Intro to the Savegrabber \n",
       "3  Project 1  00:56 Pan, Orbit and the Perspective Cube \n",
       "4  Project 1                        01:29 Import canvas "
      ]
     },
     "execution_count": 3,
     "metadata": {},
     "output_type": "execute_result"
    }
   ],
   "source": [
    "timestamps.head()"
   ]
  },
  {
   "cell_type": "code",
   "execution_count": 4,
   "metadata": {},
   "outputs": [],
   "source": [
    "descs = timestamps['Timestamp'].to_list()"
   ]
  },
  {
   "cell_type": "code",
   "execution_count": 17,
   "metadata": {},
   "outputs": [
    {
     "data": {
      "text/plain": [
       "' Speedrun\\xa0'"
      ]
     },
     "execution_count": 17,
     "metadata": {},
     "output_type": "execute_result"
    }
   ],
   "source": [
    "descs[0][5:]"
   ]
  },
  {
   "cell_type": "code",
   "execution_count": 4,
   "metadata": {},
   "outputs": [],
   "source": [
    "def adjust_time(description: str, project: str) -> str:\n",
    "    time = datetime.strptime(description[:5], '%M:%S')\n",
    "    offset = offset_dict[project]\n",
    "    adjusted_time = time + timedelta(seconds = offset)\n",
    "    formatted_time = adjusted_time.strftime(\"%M:%S\")\n",
    "    desc = description[5:]\n",
    "\n",
    "    return formatted_time + desc\n",
    "    \n",
    "\n",
    "# timestamps['Adjusted'] = timestamps.apply()"
   ]
  },
  {
   "cell_type": "code",
   "execution_count": 22,
   "metadata": {},
   "outputs": [
    {
     "data": {
      "text/plain": [
       "'00:40 Speedrun'"
      ]
     },
     "execution_count": 22,
     "metadata": {},
     "output_type": "execute_result"
    }
   ],
   "source": [
    "adjust_time(\"00:00 Speedrun\",\"Project 1\")"
   ]
  },
  {
   "cell_type": "code",
   "execution_count": 15,
   "metadata": {},
   "outputs": [],
   "source": [
    "timestamps[\"Adjusted\"] = timestamps.apply(lambda row: adjust_time(row[1],row[0]), axis = 1)"
   ]
  },
  {
   "cell_type": "code",
   "execution_count": 16,
   "metadata": {},
   "outputs": [
    {
     "data": {
      "text/html": [
       "<div>\n",
       "<style scoped>\n",
       "    .dataframe tbody tr th:only-of-type {\n",
       "        vertical-align: middle;\n",
       "    }\n",
       "\n",
       "    .dataframe tbody tr th {\n",
       "        vertical-align: top;\n",
       "    }\n",
       "\n",
       "    .dataframe thead th {\n",
       "        text-align: right;\n",
       "    }\n",
       "</style>\n",
       "<table border=\"1\" class=\"dataframe\">\n",
       "  <thead>\n",
       "    <tr style=\"text-align: right;\">\n",
       "      <th></th>\n",
       "      <th>Project</th>\n",
       "      <th>Timestamp</th>\n",
       "      <th>Adjusted</th>\n",
       "    </tr>\n",
       "  </thead>\n",
       "  <tbody>\n",
       "    <tr>\n",
       "      <th>0</th>\n",
       "      <td>Project 1</td>\n",
       "      <td>00:00 Speedrun</td>\n",
       "      <td>00:16 Speedrun</td>\n",
       "    </tr>\n",
       "    <tr>\n",
       "      <th>1</th>\n",
       "      <td>Project 1</td>\n",
       "      <td>00:17 Flagging the UI Map and Video</td>\n",
       "      <td>00:33 Flagging the UI Map and Video</td>\n",
       "    </tr>\n",
       "    <tr>\n",
       "      <th>2</th>\n",
       "      <td>Project 1</td>\n",
       "      <td>00:26 Intro to the Savegrabber</td>\n",
       "      <td>00:42 Intro to the Savegrabber</td>\n",
       "    </tr>\n",
       "    <tr>\n",
       "      <th>3</th>\n",
       "      <td>Project 1</td>\n",
       "      <td>00:56 Pan, Orbit and the Perspective Cube</td>\n",
       "      <td>01:12 Pan, Orbit and the Perspective Cube</td>\n",
       "    </tr>\n",
       "    <tr>\n",
       "      <th>4</th>\n",
       "      <td>Project 1</td>\n",
       "      <td>01:29 Import canvas</td>\n",
       "      <td>01:45 Import canvas</td>\n",
       "    </tr>\n",
       "    <tr>\n",
       "      <th>5</th>\n",
       "      <td>Project 1</td>\n",
       "      <td>01:58 Changing zoom direction</td>\n",
       "      <td>02:14 Changing zoom direction</td>\n",
       "    </tr>\n",
       "    <tr>\n",
       "      <th>6</th>\n",
       "      <td>Project 1</td>\n",
       "      <td>02:21 Calibrating the canvas</td>\n",
       "      <td>02:37 Calibrating the canvas</td>\n",
       "    </tr>\n",
       "    <tr>\n",
       "      <th>7</th>\n",
       "      <td>Project 1</td>\n",
       "      <td>02:52 Intro to Sketches</td>\n",
       "      <td>03:08 Intro to Sketches</td>\n",
       "    </tr>\n",
       "    <tr>\n",
       "      <th>8</th>\n",
       "      <td>Project 1</td>\n",
       "      <td>03:24 Intro to the Centre Diameter Circle Tool</td>\n",
       "      <td>03:40 Intro to the Centre Diameter Circle Tool</td>\n",
       "    </tr>\n",
       "    <tr>\n",
       "      <th>9</th>\n",
       "      <td>Project 1</td>\n",
       "      <td>04:08 Setting dimensions after the fact</td>\n",
       "      <td>04:24 Setting dimensions after the fact</td>\n",
       "    </tr>\n",
       "    <tr>\n",
       "      <th>10</th>\n",
       "      <td>Project 1</td>\n",
       "      <td>05:02 Intro to the Spline tool</td>\n",
       "      <td>05:18 Intro to the Spline tool</td>\n",
       "    </tr>\n",
       "    <tr>\n",
       "      <th>11</th>\n",
       "      <td>Project 1</td>\n",
       "      <td>06:24 Intro to the Extrude tool</td>\n",
       "      <td>06:40 Intro to the Extrude tool</td>\n",
       "    </tr>\n",
       "    <tr>\n",
       "      <th>12</th>\n",
       "      <td>Project 1</td>\n",
       "      <td>06:46 Travelling back in time</td>\n",
       "      <td>07:02 Travelling back in time</td>\n",
       "    </tr>\n",
       "    <tr>\n",
       "      <th>13</th>\n",
       "      <td>Project 1</td>\n",
       "      <td>07:08 Recap</td>\n",
       "      <td>07:24 Recap</td>\n",
       "    </tr>\n",
       "  </tbody>\n",
       "</table>\n",
       "</div>"
      ],
      "text/plain": [
       "      Project                                        Timestamp  \\\n",
       "0   Project 1                                  00:00 Speedrun    \n",
       "1   Project 1             00:17 Flagging the UI Map and Video    \n",
       "2   Project 1                  00:26 Intro to the Savegrabber    \n",
       "3   Project 1       00:56 Pan, Orbit and the Perspective Cube    \n",
       "4   Project 1                             01:29 Import canvas    \n",
       "5   Project 1                   01:58 Changing zoom direction    \n",
       "6   Project 1                    02:21 Calibrating the canvas    \n",
       "7   Project 1                         02:52 Intro to Sketches    \n",
       "8   Project 1  03:24 Intro to the Centre Diameter Circle Tool    \n",
       "9   Project 1         04:08 Setting dimensions after the fact    \n",
       "10  Project 1                  05:02 Intro to the Spline tool    \n",
       "11  Project 1                 06:24 Intro to the Extrude tool    \n",
       "12  Project 1                   06:46 Travelling back in time    \n",
       "13  Project 1                                      07:08 Recap   \n",
       "\n",
       "                                           Adjusted  \n",
       "0                                   00:16 Speedrun   \n",
       "1              00:33 Flagging the UI Map and Video   \n",
       "2                   00:42 Intro to the Savegrabber   \n",
       "3        01:12 Pan, Orbit and the Perspective Cube   \n",
       "4                              01:45 Import canvas   \n",
       "5                    02:14 Changing zoom direction   \n",
       "6                     02:37 Calibrating the canvas   \n",
       "7                          03:08 Intro to Sketches   \n",
       "8   03:40 Intro to the Centre Diameter Circle Tool   \n",
       "9          04:24 Setting dimensions after the fact   \n",
       "10                  05:18 Intro to the Spline tool   \n",
       "11                 06:40 Intro to the Extrude tool   \n",
       "12                   07:02 Travelling back in time   \n",
       "13                                      07:24 Recap  "
      ]
     },
     "execution_count": 16,
     "metadata": {},
     "output_type": "execute_result"
    }
   ],
   "source": [
    "timestamps"
   ]
  },
  {
   "cell_type": "code",
   "execution_count": 5,
   "metadata": {},
   "outputs": [],
   "source": [
    "offsets = pd.read_clipboard()"
   ]
  },
  {
   "cell_type": "code",
   "execution_count": 12,
   "metadata": {},
   "outputs": [
    {
     "data": {
      "text/html": [
       "<div>\n",
       "<style scoped>\n",
       "    .dataframe tbody tr th:only-of-type {\n",
       "        vertical-align: middle;\n",
       "    }\n",
       "\n",
       "    .dataframe tbody tr th {\n",
       "        vertical-align: top;\n",
       "    }\n",
       "\n",
       "    .dataframe thead th {\n",
       "        text-align: right;\n",
       "    }\n",
       "</style>\n",
       "<table border=\"1\" class=\"dataframe\">\n",
       "  <thead>\n",
       "    <tr style=\"text-align: right;\">\n",
       "      <th></th>\n",
       "      <th>Project</th>\n",
       "      <th>Offset</th>\n",
       "    </tr>\n",
       "  </thead>\n",
       "  <tbody>\n",
       "    <tr>\n",
       "      <th>0</th>\n",
       "      <td>Project 1</td>\n",
       "      <td>16</td>\n",
       "    </tr>\n",
       "    <tr>\n",
       "      <th>1</th>\n",
       "      <td>Project 2</td>\n",
       "      <td>20</td>\n",
       "    </tr>\n",
       "    <tr>\n",
       "      <th>2</th>\n",
       "      <td>Project 3</td>\n",
       "      <td>10</td>\n",
       "    </tr>\n",
       "    <tr>\n",
       "      <th>3</th>\n",
       "      <td>Project 4</td>\n",
       "      <td>15</td>\n",
       "    </tr>\n",
       "    <tr>\n",
       "      <th>4</th>\n",
       "      <td>Project 5</td>\n",
       "      <td>25</td>\n",
       "    </tr>\n",
       "    <tr>\n",
       "      <th>5</th>\n",
       "      <td>Project 6.1</td>\n",
       "      <td>30</td>\n",
       "    </tr>\n",
       "    <tr>\n",
       "      <th>6</th>\n",
       "      <td>Project 6.2</td>\n",
       "      <td>10</td>\n",
       "    </tr>\n",
       "  </tbody>\n",
       "</table>\n",
       "</div>"
      ],
      "text/plain": [
       "       Project  Offset\n",
       "0    Project 1      16\n",
       "1    Project 2      20\n",
       "2    Project 3      10\n",
       "3    Project 4      15\n",
       "4    Project 5      25\n",
       "5  Project 6.1      30\n",
       "6  Project 6.2      10"
      ]
     },
     "execution_count": 12,
     "metadata": {},
     "output_type": "execute_result"
    }
   ],
   "source": [
    "offsets"
   ]
  },
  {
   "cell_type": "code",
   "execution_count": 11,
   "metadata": {},
   "outputs": [],
   "source": [
    "offsets.iloc[0,1] = 16"
   ]
  },
  {
   "cell_type": "code",
   "execution_count": 13,
   "metadata": {},
   "outputs": [],
   "source": [
    "offset_dict = dict(zip(offsets['Project'].to_list(), offsets['Offset'].to_list()))"
   ]
  },
  {
   "cell_type": "code",
   "execution_count": 14,
   "metadata": {},
   "outputs": [
    {
     "data": {
      "text/plain": [
       "{'Project 1': 16,\n",
       " 'Project 2': 20,\n",
       " 'Project 3': 10,\n",
       " 'Project 4': 15,\n",
       " 'Project 5': 25,\n",
       " 'Project 6.1': 30,\n",
       " 'Project 6.2': 10}"
      ]
     },
     "execution_count": 14,
     "metadata": {},
     "output_type": "execute_result"
    }
   ],
   "source": [
    "offset_dict"
   ]
  },
  {
   "cell_type": "code",
   "execution_count": 18,
   "metadata": {},
   "outputs": [],
   "source": [
    "timestamps.to_csv('Adjusted_Project 1.csv')"
   ]
  },
  {
   "cell_type": "code",
   "execution_count": null,
   "metadata": {},
   "outputs": [],
   "source": []
  }
 ],
 "metadata": {
  "kernelspec": {
   "display_name": "Python 3",
   "language": "python",
   "name": "python3"
  },
  "language_info": {
   "codemirror_mode": {
    "name": "ipython",
    "version": 3
   },
   "file_extension": ".py",
   "mimetype": "text/x-python",
   "name": "python",
   "nbconvert_exporter": "python",
   "pygments_lexer": "ipython3",
   "version": "3.7.2"
  }
 },
 "nbformat": 4,
 "nbformat_minor": 4
}
